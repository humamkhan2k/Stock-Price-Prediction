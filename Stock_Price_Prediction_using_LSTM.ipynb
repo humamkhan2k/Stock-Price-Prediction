{
  "nbformat": 4,
  "nbformat_minor": 0,
  "metadata": {
    "colab": {
      "name": "Stock Price Prediction using LSTM.ipynb",
      "provenance": []
    },
    "kernelspec": {
      "name": "python3",
      "display_name": "Python 3"
    },
    "accelerator": "TPU"
  },
  "cells": [
    {
      "cell_type": "code",
      "metadata": {
        "id": "wQI5w-uVqrml",
        "colab_type": "code",
        "trusted": true,
        "colab": {}
      },
      "source": [
        "import os\n",
        "import numpy as np\n",
        "import pandas as pd\n",
        "import random \n",
        "import copy\n",
        "import matplotlib.pyplot as plt\n",
        "import datetime as dt\n",
        "from sklearn.metrics import mean_absolute_error as MAE\n",
        "from sklearn import linear_model as lm\n",
        "from keras.models import Sequential\n",
        "from keras.layers import Activation, Dense,Bidirectional,Dropout,LSTM\n",
        "from itertools import chain"
      ],
      "execution_count": 0,
      "outputs": []
    },
    {
      "cell_type": "code",
      "metadata": {
        "id": "RO0DRGj0uqJW",
        "colab_type": "code",
        "colab": {}
      },
      "source": [
        "from google.colab import drive\n",
        "drive.mount(\"/content/gdrive\")"
      ],
      "execution_count": 0,
      "outputs": []
    },
    {
      "cell_type": "code",
      "metadata": {
        "id": "wLb6cTQzvYR5",
        "colab_type": "code",
        "colab": {}
      },
      "source": [
        "root_dir = os.path.abspath(\".\")"
      ],
      "execution_count": 0,
      "outputs": []
    },
    {
      "cell_type": "code",
      "metadata": {
        "id": "BqfyC7Zovl2m",
        "colab_type": "code",
        "colab": {}
      },
      "source": [
        "os.chdir(os.path.join(os.path.abspath(\".\"),'gdrive','My Drive'))"
      ],
      "execution_count": 0,
      "outputs": []
    },
    {
      "cell_type": "code",
      "metadata": {
        "trusted": true,
        "id": "_7aO0ZlDul9u",
        "colab_type": "code",
        "colab": {}
      },
      "source": [
        " original_data= pd.read_excel('YES_BANK.xlsx',\n",
        "header=None,\n",
        "index_col=False,\n",
        "keep_default_na=True,names=['Date','Open','High','Low','Close','Volume']\n",
        ")\n"
      ],
      "execution_count": 0,
      "outputs": []
    },
    {
      "cell_type": "code",
      "metadata": {
        "id": "w8tWliCRvlAr",
        "colab_type": "code",
        "colab": {}
      },
      "source": [
        "original_data"
      ],
      "execution_count": 0,
      "outputs": []
    },
    {
      "cell_type": "code",
      "metadata": {
        "id": "M-z2ucSBvk9s",
        "colab_type": "code",
        "colab": {}
      },
      "source": [
        "original_data=original_data.iloc[::-1]"
      ],
      "execution_count": 0,
      "outputs": []
    },
    {
      "cell_type": "code",
      "metadata": {
        "id": "5BWGsEEz-Vuq",
        "colab_type": "code",
        "colab": {}
      },
      "source": [
        "list_=original_data.values.tolist()\n",
        "original_data=pd.DataFrame(list_)"
      ],
      "execution_count": 0,
      "outputs": []
    },
    {
      "cell_type": "code",
      "metadata": {
        "trusted": true,
        "id": "sZ1gfIh4ul90",
        "colab_type": "code",
        "colab": {}
      },
      "source": [
        "original_data"
      ],
      "execution_count": 0,
      "outputs": []
    },
    {
      "cell_type": "code",
      "metadata": {
        "id": "Z7JkpC9Rq6Qq",
        "colab_type": "code",
        "trusted": true,
        "colab": {}
      },
      "source": [
        "original_data.columns=[\"Date\"\t,\"Open\",\t\"High\",\t\"Low\",\t\"Close\",\t\"Volume\"]\n",
        "original_data['Date'] = pd.to_datetime(original_data['Date'])\n",
        "original_data.head()"
      ],
      "execution_count": 0,
      "outputs": []
    },
    {
      "cell_type": "code",
      "metadata": {
        "trusted": true,
        "id": "6KFEPNqcul9_",
        "colab_type": "code",
        "colab": {}
      },
      "source": [
        "data_split = int(len(original_data)*0.8)\n",
        "data1 = original_data\n",
        "data1"
      ],
      "execution_count": 0,
      "outputs": []
    },
    {
      "cell_type": "code",
      "metadata": {
        "id": "qV-VETW9rGmD",
        "colab_type": "code",
        "trusted": true,
        "colab": {}
      },
      "source": [
        "def datasetpreparation(original_data):\n",
        "  data_split = int(len(original_data)*0.8)\n",
        "  data1 = original_data.drop(['Date','Volume'],axis = 1)\n",
        "  data1.head()\n",
        "  data1_input = []\n",
        "  for i in range(len(data1) - 4):\n",
        "    list1 = data1[i:i+5].values.tolist()\n",
        "    data1_input.append(list1)\n",
        "  #print(np.array(data4_input).shape)\n",
        "  #(data4_input)\n",
        "  data1_output = data1.ix[5:,:]\n",
        "  #data4_output\n",
        "  train1_input = np.array(data1_input[0:data_split])\n",
        "  train1_output = np.array(data1_output[0:data_split])\n",
        "  print(train1_input.shape)\n",
        "  print(train1_output.shape)\n",
        "  test1_input = np.array(data1_input[data_split:])\n",
        "  test1_output = np.array(data1_output[data_split:])\n",
        "  print(test1_input.shape)\n",
        "  print(test1_output.shape)\n",
        "  return train1_input,train1_output,test1_input,test1_output"
      ],
      "execution_count": 0,
      "outputs": []
    },
    {
      "cell_type": "code",
      "metadata": {
        "id": "x8OT3crfs0Lb",
        "colab_type": "code",
        "trusted": true,
        "colab": {}
      },
      "source": [
        "def LSTMmodel():\n",
        "  model1 = Sequential()\n",
        "  model1.add(Bidirectional(LSTM(50, activation='relu'), input_shape=(5, 4)))\n",
        "  model1.add(Dropout(0.25))\n",
        "  model1.add(Dense(4))\n",
        "  model1.compile(optimizer='adam', loss='mae')\n",
        "  return model1"
      ],
      "execution_count": 0,
      "outputs": []
    },
    {
      "cell_type": "code",
      "metadata": {
        "id": "gFpQm7C1tScJ",
        "colab_type": "code",
        "trusted": true,
        "colab": {}
      },
      "source": [
        "def modeltrain(train1_input,train1_output,model1):\n",
        "  #train_input,train_output,test1_input,test1_output = datasetpreparation(original_data)\n",
        "  #model = LSTMmodel \n",
        "  history = model1.fit(train1_input, train1_output, epochs=1, verbose=1)\n",
        "  model1.save('project_model.h5')"
      ],
      "execution_count": 0,
      "outputs": []
    },
    {
      "cell_type": "code",
      "metadata": {
        "id": "mGbk8Hovuzu2",
        "colab_type": "code",
        "trusted": true,
        "colab": {}
      },
      "source": [
        "def evaluateval(model1,train1_input,train1_output):\n",
        "  #train_input,train_output,test1_input,test1_output = datasetpreparation(original_data)\n",
        "  predict = model1.predict(train1_input)\n",
        "  predict1 = pd.DataFrame(predict)\n",
        "  output = pd.DataFrame(train1_output)\n",
        "  for i in range(4):\n",
        "    plt.plot(predict1.ix[:,i])\n",
        "    plt.plot(output.ix[:,i])\n",
        "    plt.show()"
      ],
      "execution_count": 0,
      "outputs": []
    },
    {
      "cell_type": "code",
      "metadata": {
        "id": "LlhucTjkwzi3",
        "colab_type": "code",
        "trusted": true,
        "colab": {}
      },
      "source": [
        "def test(model1,train1_input,train1_output,test1_input,test1_output,i):\n",
        "  input = test1_input[i].reshape(1,5,4)\n",
        "  train1_input = np.concatenate((train1_input,input),axis = 0)\n",
        "  train1_input = train1_input[-20:]\n",
        "  output = test1_output[i].reshape(1,4)\n",
        "  train1_output = np.concatenate((train1_output,output),axis = 0)\n",
        "  train1_output = train1_output[-20:]\n",
        "  prediction = model1.predict(input)\n",
        "  return prediction,train1_input,train1_output"
      ],
      "execution_count": 0,
      "outputs": []
    },
    {
      "cell_type": "code",
      "metadata": {
        "id": "3qNceHOr1rwY",
        "colab_type": "code",
        "trusted": true,
        "colab": {}
      },
      "source": [
        "def feedback(model1,train1_input,train1_output,test1_input,i):\n",
        "  model1.fit(train1_input, train1_output, epochs=10, verbose=1)\n",
        "  prediction = model1.predict(test1_input[i].reshape(1,5,4))\n",
        "  return prediction"
      ],
      "execution_count": 0,
      "outputs": []
    },
    {
      "cell_type": "code",
      "metadata": {
        "id": "F1k17D97_Lnw",
        "colab_type": "code",
        "trusted": true,
        "colab": {}
      },
      "source": [
        "from keras.models import load_model\n",
        "\n",
        "#train1_input,train1_output,test1_input,test1_output = datasetpreparation(original_data)\n",
        "#model1 = LSTMmodel()\n",
        "#modeltrain(train1_input,train1_output,model1)\n",
        "pred_list = []\n",
        "pred_list_feedback = []\n",
        "   \n",
        "\n",
        "def runprograme(original_data):\n",
        "  train1_input,train1_output,test1_input,test1_output = datasetpreparation(original_data)\n",
        "  model1 = LSTMmodel()\n",
        "  model1 = load_model('YES_BANK.h5')\n",
        "  #evaluateval(model1,train1_input,train1_output)\n",
        "  \n",
        "  for i in range(len(test1_input)):\n",
        "   pred,train1_input,train1_output = test(model1,train1_input,train1_output,test1_input,test1_output,i)\n",
        "   \n",
        "   pred=(pred.tolist())\n",
        "   pred = list(chain.from_iterable(pred))\n",
        "   pred_list.append(pred)\n",
        "\n",
        "   prediction = feedback(model1,train1_input,train1_output,test1_input,i)\n",
        "   prediction=(prediction.tolist())\n",
        "   prediction = list(chain.from_iterable(prediction))\n",
        "   pred_list_feedback.append(prediction)\n",
        "   #print(pred)\n",
        "   #print(prediction)\n",
        "   #print(test1_output[i])\n",
        "  #print(pred_list)\n",
        "  #print(pred_list_feedback)  \n",
        "  return pred_list, pred_list_feedback \n",
        "#pred,train1_input,train1_output = test(model1,train1_input,train1_output,test1_input,test1_output,0)\n",
        "\n",
        "#pred=(pred.tolist())\n",
        "#pred = list(chain.from_iterable(pred))\n",
        "\n",
        "#pred_list.append(pred)\n",
        "\n"
      ],
      "execution_count": 0,
      "outputs": []
    },
    {
      "cell_type": "code",
      "metadata": {
        "id": "DM4hRU0lFEIH",
        "colab_type": "code",
        "trusted": true,
        "colab": {}
      },
      "source": [
        "pred_list, pred_list_feedback = runprograme(original_data)\n"
      ],
      "execution_count": 0,
      "outputs": []
    },
    {
      "cell_type": "code",
      "metadata": {
        "trusted": true,
        "id": "8JeQTSvAul-1",
        "colab_type": "code",
        "colab": {}
      },
      "source": [
        "print(pred_list)\n",
        "pred_list=pd.DataFrame(pred_list)\n",
        "pred_list.columns=['Open','High','Low','Close']\n",
        "pred_list.to_csv('Yes_bank.csv')\n",
        "\n",
        "\n",
        "pred_list_feedback=pd.DataFrame(pred_list_feedback)\n",
        "pred_list_feedback.columns=['Open','High','Low','Close']\n",
        "pred_list_feedback.to_csv('Yes_bank_feedback.csv')\n"
      ],
      "execution_count": 0,
      "outputs": []
    },
    {
      "cell_type": "code",
      "metadata": {
        "id": "UEZTcDbI3T1x",
        "colab_type": "code",
        "colab": {}
      },
      "source": [
        "#predict = model1.predict(test1_input)\n",
        "    predict1 =pred_list_feedback\n",
        "    output = pd.DataFrame(test1_output)\n",
        "    plt.figure(figsize = (24,8))\n",
        "    plt.title('open value vs time')\n",
        "    plt.ylabel('Open Value')\n",
        "    plt.xlabel('number of days')\n",
        "    #plt.legend(loc = 'best')\n",
        "    plt.plot(predict1.ix[:,0],label = 'predicted')\n",
        "    plt.plot(output.ix[:,0],label = 'actual')\n",
        "    plt.legend(loc = 'best')\n",
        "    plt.show()\n",
        "    plt.figure(figsize = (24,8))\n",
        "    plt.title('high value vs time')\n",
        "    plt.ylabel('high Value')\n",
        "    plt.xlabel('number of days')\n",
        "    #plt.legend(loc = 'best')\n",
        "    plt.plot(predict1.ix[:,1],label = 'predicted')\n",
        "    plt.plot(output.ix[:,1],label = 'actual')\n",
        "    plt.legend(loc = 'best')\n",
        "    plt.show()\n",
        "    plt.figure(figsize = (24,8))\n",
        "    plt.title('low value vs time')\n",
        "    plt.ylabel('low Value')\n",
        "    plt.xlabel('number of days')\n",
        "    #plt.legend(loc = 'best')\n",
        "    plt.plot(predict1.ix[:,2],label = 'predicted')\n",
        "    plt.plot(output.ix[:,2],label = 'actual')\n",
        "    plt.legend(loc = 'best')\n",
        "    plt.show()\n",
        "    plt.figure(figsize = (24,8))\n",
        "    plt.title('close value vs time')\n",
        "    plt.ylabel('Close Value')\n",
        "    plt.xlabel('number of days')\n",
        "    #plt.legend(loc = 'best')\n",
        "    plt.plot(predict1.ix[:,3],label = 'predicted')\n",
        "    plt.plot(output.ix[:,3],label = 'actual')\n",
        "    plt.legend(loc = 'best')\n",
        "    plt.show()"
      ],
      "execution_count": 0,
      "outputs": []
    },
    {
      "cell_type": "code",
      "metadata": {
        "id": "6UqRi-WqtwgC",
        "colab_type": "code",
        "colab": {}
      },
      "source": [
        ""
      ],
      "execution_count": 0,
      "outputs": []
    }
  ]
}